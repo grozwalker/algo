{
 "cells": [
  {
   "cell_type": "code",
   "execution_count": 66,
   "metadata": {},
   "outputs": [],
   "source": [
    "import math\n",
    "\n",
    "def ShellSort(arr):\n",
    "    n = len(arr)\n",
    "    gap = math.floor(n / 2)\n",
    "    \n",
    "    \n",
    "    while (gap >= 1):\n",
    "        \n",
    "        for offset in range(gap):\n",
    "            for i in range(gap + offset, n, gap):\n",
    "                tmp = arr[i]\n",
    "                \n",
    "                position = i\n",
    "\n",
    "                while (position - gap >= 0 and arr[position - gap] > tmp):  \n",
    "                    arr[position] = arr[position - gap]\n",
    "                    position = position - gap\n",
    "\n",
    "                arr[position] = tmp\n",
    "            \n",
    "        gap = math.floor(gap / 2)\n",
    "    \n",
    "    return arr"
   ]
  },
  {
   "cell_type": "code",
   "execution_count": 67,
   "metadata": {},
   "outputs": [
    {
     "data": {
      "text/plain": [
       "[2, 4, 5, 8, 9]"
      ]
     },
     "execution_count": 67,
     "metadata": {},
     "output_type": "execute_result"
    }
   ],
   "source": [
    "ShellSort([4, 9, 5, 8, 2])"
   ]
  }
 ],
 "metadata": {
  "kernelspec": {
   "display_name": "Python 3",
   "language": "python",
   "name": "python3"
  },
  "language_info": {
   "codemirror_mode": {
    "name": "ipython",
    "version": 3
   },
   "file_extension": ".py",
   "mimetype": "text/x-python",
   "name": "python",
   "nbconvert_exporter": "python",
   "pygments_lexer": "ipython3",
   "version": "3.7.4"
  }
 },
 "nbformat": 4,
 "nbformat_minor": 2
}
