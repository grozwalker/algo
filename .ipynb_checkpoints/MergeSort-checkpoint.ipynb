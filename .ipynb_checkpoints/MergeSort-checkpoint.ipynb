{
 "cells": [
  {
   "cell_type": "code",
   "execution_count": 3,
   "metadata": {},
   "outputs": [],
   "source": [
    "def SimpleSort(arr):\n",
    "    if (arr[0] > arr[1]):\n",
    "        tmp = arr[0]\n",
    "        arr[0] = arr[1]\n",
    "        arr[1] = tmp\n",
    "    \n",
    "    return arr"
   ]
  },
  {
   "cell_type": "code",
   "execution_count": 11,
   "metadata": {},
   "outputs": [],
   "source": [
    "def MergeSort(arr, left, right):\n",
    "    if (right - left <= 2):\n",
    "        SimpleSort(arr)\n",
    "    else:\n",
    "        length = (right - left) // 2\n",
    "        print('length', length)\n",
    "        \n",
    "        MergeSort(arr, left, left + length)\n",
    "        MergeSort(arr, left+ length, right)\n",
    "        \n",
    "        \n",
    "    print('arr', arr)\n",
    "    return arr"
   ]
  },
  {
   "cell_type": "code",
   "execution_count": 12,
   "metadata": {},
   "outputs": [
    {
     "name": "stdout",
     "output_type": "stream",
     "text": [
      "length 4\n",
      "length 2\n",
      "arr [4, 5, 11, 7, 3, 9, 15, 10, 1]\n",
      "arr [4, 5, 11, 7, 3, 9, 15, 10, 1]\n",
      "arr [4, 5, 11, 7, 3, 9, 15, 10, 1]\n",
      "length 2\n",
      "arr [4, 5, 11, 7, 3, 9, 15, 10, 1]\n",
      "length 1\n",
      "arr [4, 5, 11, 7, 3, 9, 15, 10, 1]\n",
      "arr [4, 5, 11, 7, 3, 9, 15, 10, 1]\n",
      "arr [4, 5, 11, 7, 3, 9, 15, 10, 1]\n",
      "arr [4, 5, 11, 7, 3, 9, 15, 10, 1]\n",
      "arr [4, 5, 11, 7, 3, 9, 15, 10, 1]\n"
     ]
    },
    {
     "data": {
      "text/plain": [
       "[4, 5, 11, 7, 3, 9, 15, 10, 1]"
      ]
     },
     "execution_count": 12,
     "metadata": {},
     "output_type": "execute_result"
    }
   ],
   "source": [
    "MergeSort([5, 4, 11, 7, 3, 9, 15, 10, 1], 0, 9)"
   ]
  }
 ],
 "metadata": {
  "kernelspec": {
   "display_name": "Python 3",
   "language": "python",
   "name": "python3"
  },
  "language_info": {
   "codemirror_mode": {
    "name": "ipython",
    "version": 3
   },
   "file_extension": ".py",
   "mimetype": "text/x-python",
   "name": "python",
   "nbconvert_exporter": "python",
   "pygments_lexer": "ipython3",
   "version": "3.7.4"
  }
 },
 "nbformat": 4,
 "nbformat_minor": 2
}
