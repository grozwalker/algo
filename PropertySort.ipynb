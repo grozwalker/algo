{
 "cells": [
  {
   "cell_type": "code",
   "execution_count": 22,
   "metadata": {},
   "outputs": [],
   "source": [
    "def PropertySort(arr):\n",
    "    tmpArr = {}\n",
    "    result = []\n",
    "    \n",
    "    for i in range(1, 50):\n",
    "        tmpArr[i] = 0\n",
    "    \n",
    "    for val in arr:\n",
    "        tmpArr[val] += 1\n",
    "            \n",
    "    for key in tmpArr:\n",
    "        if (tmpArr[key] != 0):\n",
    "            for i in range(0, tmpArr[key]):\n",
    "                result.append(key)\n",
    "                \n",
    "    print ('result', result)"
   ]
  },
  {
   "cell_type": "code",
   "execution_count": 23,
   "metadata": {},
   "outputs": [
    {
     "name": "stdout",
     "output_type": "stream",
     "text": [
      "result [5, 8, 11, 11, 19, 31, 44]\n"
     ]
    }
   ],
   "source": [
    "arr = [5, 11, 44, 19, 11, 8, 31]\n",
    "PropertySort(arr)"
   ]
  }
 ],
 "metadata": {
  "kernelspec": {
   "display_name": "Python 3",
   "language": "python",
   "name": "python3"
  },
  "language_info": {
   "codemirror_mode": {
    "name": "ipython",
    "version": 3
   },
   "file_extension": ".py",
   "mimetype": "text/x-python",
   "name": "python",
   "nbconvert_exporter": "python",
   "pygments_lexer": "ipython3",
   "version": "3.7.4"
  }
 },
 "nbformat": 4,
 "nbformat_minor": 2
}
