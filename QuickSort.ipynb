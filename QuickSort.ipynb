{
 "cells": [
  {
   "cell_type": "code",
   "execution_count": 20,
   "metadata": {},
   "outputs": [],
   "source": [
    "def QuickSort(arr, start, end):\n",
    "    \n",
    "    mid = arr[(end + start) // 2]\n",
    "    \n",
    "    l = start\n",
    "    r = end\n",
    "    \n",
    "    while (l <= r):\n",
    "        while (arr[l] < mid):\n",
    "            l += 1\n",
    "            \n",
    "        while (arr[r] > mid):\n",
    "            r -= 1\n",
    "    \n",
    "        if (l <= r):\n",
    "            Swap(arr, l, r)\n",
    "            l += 1\n",
    "            r -= 1\n",
    "        \n",
    "    if (r > start):\n",
    "        QuickSort(arr, start, r)\n",
    "        \n",
    "    if (l < end):\n",
    "        QuickSort(arr, l, end)\n",
    "        \n",
    "    print (arr)\n",
    "        "
   ]
  },
  {
   "cell_type": "code",
   "execution_count": 3,
   "metadata": {},
   "outputs": [],
   "source": [
    "def Swap(arr, l, r):\n",
    "    tmp = arr[l]\n",
    "    arr[l] = arr[r]\n",
    "    arr[r] = tmp"
   ]
  },
  {
   "cell_type": "code",
   "execution_count": 21,
   "metadata": {},
   "outputs": [
    {
     "name": "stdout",
     "output_type": "stream",
     "text": [
      "[1, 2, 4, 4, 5, 7, 11, 6, 9]\n",
      "[1, 2, 4, 4, 5, 7, 11, 6, 9]\n",
      "[1, 2, 4, 4, 5, 7, 11, 6, 9]\n",
      "[1, 2, 4, 4, 5, 6, 7, 9, 11]\n",
      "[1, 2, 4, 4, 5, 6, 7, 9, 11]\n",
      "[1, 2, 4, 4, 5, 6, 7, 9, 11]\n",
      "[1, 2, 4, 4, 5, 6, 7, 9, 11]\n"
     ]
    }
   ],
   "source": [
    "arr = [4, 1, 9, 7, 5, 4, 11, 6, 2]\n",
    "QuickSort(arr, 0, len(arr) - 1)"
   ]
  }
 ],
 "metadata": {
  "kernelspec": {
   "display_name": "Python 3",
   "language": "python",
   "name": "python3"
  },
  "language_info": {
   "codemirror_mode": {
    "name": "ipython",
    "version": 3
   },
   "file_extension": ".py",
   "mimetype": "text/x-python",
   "name": "python",
   "nbconvert_exporter": "python",
   "pygments_lexer": "ipython3",
   "version": "3.7.4"
  }
 },
 "nbformat": 4,
 "nbformat_minor": 2
}
