{
 "cells": [
  {
   "cell_type": "code",
   "execution_count": 17,
   "metadata": {},
   "outputs": [],
   "source": [
    "def ShellSort(arr):\n",
    "    n = len(arr)\n",
    "    \n",
    "    s = 0\n",
    "    gaps = [1]\n",
    "    while (3 * gaps[s] <= n):\n",
    "        s =+ 1\n",
    "        if (s % 2 == 0):\n",
    "            gaps.append(int(9 * (2 ** s) - 9 * ( 2 ** (s / 2)) + 1))\n",
    "        else:\n",
    "            gaps.append(int(8 * (2 ** s) - 6 * ( 2 ** ((s + 1) / 2)) + 1))\n",
    "    \n",
    "    for gi in range(len(gaps), 0, -1):  \n",
    "        \n",
    "        gap = gaps[gi - 1]\n",
    "        \n",
    "        for offset in range(gap):\n",
    "            for i in range(gap + offset, n, gap):\n",
    "                tmp = arr[i]\n",
    "\n",
    "                position = i\n",
    "\n",
    "                while (position - gap >= 0 and arr[position - gap] > tmp):  \n",
    "                    arr[position] = arr[position - gap]\n",
    "                    position = position - gap\n",
    "\n",
    "                arr[position] = tmp\n",
    "    \n",
    "    return arr"
   ]
  },
  {
   "cell_type": "code",
   "execution_count": 18,
   "metadata": {},
   "outputs": [
    {
     "data": {
      "text/plain": [
       "[2, 4, 5, 8, 9]"
      ]
     },
     "execution_count": 18,
     "metadata": {},
     "output_type": "execute_result"
    }
   ],
   "source": [
    "ShellSort([4, 9, 5, 8, 2])"
   ]
  }
 ],
 "metadata": {
  "kernelspec": {
   "display_name": "Python 3",
   "language": "python",
   "name": "python3"
  },
  "language_info": {
   "codemirror_mode": {
    "name": "ipython",
    "version": 3
   },
   "file_extension": ".py",
   "mimetype": "text/x-python",
   "name": "python",
   "nbconvert_exporter": "python",
   "pygments_lexer": "ipython3",
   "version": "3.7.4"
  }
 },
 "nbformat": 4,
 "nbformat_minor": 2
}
