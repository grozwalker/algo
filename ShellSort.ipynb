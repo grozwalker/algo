{
 "cells": [
  {
   "cell_type": "code",
   "execution_count": 21,
   "metadata": {},
   "outputs": [],
   "source": [
    "def ShellSort(arr):\n",
    "    n = len(arr)\n",
    "    gap = n // 2\n",
    "    \n",
    "    s = 0\n",
    "    gaps = [1]\n",
    "    while (3 * gaps[s] <= n):\n",
    "        print('gaps', gaps)\n",
    "        s =+ 1\n",
    "        if (s % 2 == 0):\n",
    "            gaps.append(int(9 * (2 ** s) - 9 * ( 2 ** (s / 2)) + 1))\n",
    "        else:\n",
    "            gaps.append(int(8 * (2 ** s) - 6 * ( 2 ** ((s + 1) / 2)) + 1))\n",
    "            \n",
    "    print('gaps', gaps)\n",
    "    \n",
    "    for gi in range(len(gaps) - 1, 0, -1):\n",
    "        \n",
    "        print('s', gi)        \n",
    "        \n",
    "        gap = gaps[gi]\n",
    "\n",
    "    \n",
    "    return arr"
   ]
  },
  {
   "cell_type": "code",
   "execution_count": 22,
   "metadata": {},
   "outputs": [
    {
     "name": "stdout",
     "output_type": "stream",
     "text": [
      "gaps [1]\n",
      "gaps [1, 5]\n",
      "s 1\n"
     ]
    },
    {
     "data": {
      "text/plain": [
       "[4, 9, 5, 8, 2]"
      ]
     },
     "execution_count": 22,
     "metadata": {},
     "output_type": "execute_result"
    }
   ],
   "source": [
    "ShellSort([4, 9, 5, 8, 2])"
   ]
  }
 ],
 "metadata": {
  "kernelspec": {
   "display_name": "Python 3",
   "language": "python",
   "name": "python3"
  },
  "language_info": {
   "codemirror_mode": {
    "name": "ipython",
    "version": 3
   },
   "file_extension": ".py",
   "mimetype": "text/x-python",
   "name": "python",
   "nbconvert_exporter": "python",
   "pygments_lexer": "ipython3",
   "version": "3.7.4"
  }
 },
 "nbformat": 4,
 "nbformat_minor": 2
}
