{
 "cells": [
  {
   "cell_type": "code",
   "execution_count": 110,
   "metadata": {},
   "outputs": [],
   "source": [
    "def simple_sort(arr):\n",
    "    # print('simple_sort')\n",
    "    if (len(arr) == 1):\n",
    "        return arr\n",
    "    \n",
    "    if (arr[0] > arr[1]):\n",
    "        tmp = arr[0]\n",
    "        arr[0] = arr[1]\n",
    "        arr[1] = tmp\n",
    "        \n",
    "    return arr"
   ]
  },
  {
   "cell_type": "code",
   "execution_count": 132,
   "metadata": {},
   "outputs": [],
   "source": [
    "def merge_array(first_arr, second_arr):\n",
    "    print('merge_array', first_arr, second_arr)\n",
    "    \n",
    "    first_n = len(first_arr)\n",
    "    second_n = len(second_arr)\n",
    "    \n",
    "#     print('first_n', first_n)    \n",
    "#     print('second_n', second_n)\n",
    "#     print('######')\n",
    "    \n",
    "    first_c = 0\n",
    "    second_c = 0\n",
    "    \n",
    "    merged_array = []\n",
    "    \n",
    "    while (first_c < first_n and second_c < second_n):\n",
    "        if (first_arr[first_c] > second_arr[second_c]):\n",
    "            merged_array.append(second_arr[second_c])\n",
    "            second_c += 1\n",
    "        else:\n",
    "            merged_array.append(first_arr[first_c])\n",
    "            first_c += 1\n",
    "\n",
    "    while (first_c < first_n):            \n",
    "        merged_array.append(first_arr[first_c])\n",
    "        first_c += 1\n",
    "\n",
    "    while (second_c < second_n):            \n",
    "        merged_array.append(second_arr[second_c])\n",
    "        second_c += 1\n",
    "\n",
    "    return merged_array"
   ]
  },
  {
   "cell_type": "code",
   "execution_count": 130,
   "metadata": {},
   "outputs": [],
   "source": [
    "def merge_sort(arr):\n",
    "    print('loop')\n",
    "    print('current arr', arr)\n",
    "    \n",
    "    if (len(arr) <= 2):\n",
    "        sorted_arr = simple_sort(arr)\n",
    "    else:\n",
    "        mid = len(arr) // 2\n",
    "        \n",
    "        left_arr = merge_sort(arr[:mid])\n",
    "        right_arr = merge_sort(arr[mid:])\n",
    "        \n",
    "        sorted_arr = merge_array(left_arr, right_arr)\n",
    "        \n",
    "        \n",
    "    return sorted_arr"
   ]
  },
  {
   "cell_type": "code",
   "execution_count": 133,
   "metadata": {},
   "outputs": [
    {
     "name": "stdout",
     "output_type": "stream",
     "text": [
      "loop\n",
      "current arr [4, 2, 7, 6, 11, 8, 1]\n",
      "loop\n",
      "current arr [4, 2, 7]\n",
      "loop\n",
      "current arr [4]\n",
      "loop\n",
      "current arr [2, 7]\n",
      "merge_array [4] [2, 7]\n",
      "loop\n",
      "current arr [6, 11, 8, 1]\n",
      "loop\n",
      "current arr [6, 11]\n",
      "loop\n",
      "current arr [8, 1]\n",
      "merge_array [6, 11] [1, 8]\n",
      "merge_array [2, 4] [1, 6, 8, 11]\n"
     ]
    },
    {
     "data": {
      "text/plain": [
       "[1, 2, 4]"
      ]
     },
     "execution_count": 133,
     "metadata": {},
     "output_type": "execute_result"
    }
   ],
   "source": [
    "arr = [4, 2, 7, 6, 11, 8, 1]\n",
    "\n",
    "merge_sort(arr)"
   ]
  }
 ],
 "metadata": {
  "kernelspec": {
   "display_name": "Python 3",
   "language": "python",
   "name": "python3"
  },
  "language_info": {
   "codemirror_mode": {
    "name": "ipython",
    "version": 3
   },
   "file_extension": ".py",
   "mimetype": "text/x-python",
   "name": "python",
   "nbconvert_exporter": "python",
   "pygments_lexer": "ipython3",
   "version": "3.7.4"
  }
 },
 "nbformat": 4,
 "nbformat_minor": 2
}